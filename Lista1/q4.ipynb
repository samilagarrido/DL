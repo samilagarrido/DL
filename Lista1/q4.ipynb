{
 "cells": [
  {
   "cell_type": "code",
   "execution_count": 18,
   "metadata": {},
   "outputs": [],
   "source": [
    "import numpy as np\n",
    "from random import uniform\n",
    "from sklearn.utils import shuffle\n",
    "from sklearn.model_selection import train_test_split\n",
    "import tensorflow as tf\n",
    "from tensorflow import keras\n",
    "from tensorflow.keras.models import Sequential\n",
    "from tensorflow.keras.layers import Activation, Dense\n",
    "from tensorflow.keras.optimizers import Adam\n",
    "from matplotlib import pyplot as plt"
   ]
  },
  {
   "cell_type": "code",
   "execution_count": 19,
   "metadata": {},
   "outputs": [],
   "source": [
    "def generate_time_series_data(n):\n",
    "    return np.sin(n + np.sin(n)**2)\n",
    "\n",
    "input_samples = []\n",
    "output_labels = []\n",
    "\n",
    "input_range = 10 #pra cada ponto, olharemos 10 pontos antes\n",
    "step_size = 0.3#amostras de valores entre n-8 até n e variando 0.3 entre cada valor\n",
    "for n in range(0, 40):\n",
    "    input_data = []\n",
    "    output_data = []\n",
    "    for x in np.arange(n - input_range, n, step_size):\n",
    "        input_data.append(generate_time_series_data(x))\n",
    "    input_samples.append(input_data)\n",
    "    for y in np.arange(n, n + 3, step_size):\n",
    "        output_data.append(generate_time_series_data(y))\n",
    "    output_labels.append(output_data)\n"
   ]
  },
  {
   "cell_type": "code",
   "execution_count": 20,
   "metadata": {},
   "outputs": [],
   "source": [
    "input_samples = np.array(input_samples)\n",
    "output_labels = np.array(output_labels)"
   ]
  },
  {
   "cell_type": "code",
   "execution_count": 21,
   "metadata": {},
   "outputs": [
    {
     "name": "stdout",
     "output_type": "stream",
     "text": [
      "(32, 34)\n",
      "(32, 10)\n"
     ]
    }
   ],
   "source": [
    "train_input, test_input, train_output, test_output = train_test_split(input_samples, output_labels, test_size=0.2, random_state=33)\n",
    "print(train_input.shape)\n",
    "print(train_output.shape)"
   ]
  },
  {
   "cell_type": "code",
   "execution_count": 22,
   "metadata": {},
   "outputs": [],
   "source": [
    "neural_network_model = Sequential([\n",
    "    Dense(units=5, input_shape=(34,), activation='relu'),   \n",
    "    Dense(units=10, activation='linear'),\n",
    "])"
   ]
  },
  {
   "cell_type": "code",
   "execution_count": 23,
   "metadata": {},
   "outputs": [],
   "source": [
    "neural_network_model.compile(optimizer=Adam(learning_rate=0.1), loss='mean_squared_error', metrics=['mean_absolute_error'])"
   ]
  },
  {
   "cell_type": "code",
   "execution_count": 24,
   "metadata": {},
   "outputs": [
    {
     "name": "stdout",
     "output_type": "stream",
     "text": [
      "Epoch 1/100\n"
     ]
    },
    {
     "name": "stdout",
     "output_type": "stream",
     "text": [
      "1/1 - 1s - loss: 0.6317 - mean_absolute_error: 0.6385 - val_loss: 0.2906 - val_mean_absolute_error: 0.4373 - 532ms/epoch - 532ms/step\n",
      "Epoch 2/100\n",
      "1/1 - 0s - loss: 0.2945 - mean_absolute_error: 0.4538 - val_loss: 0.3514 - val_mean_absolute_error: 0.4763 - 32ms/epoch - 32ms/step\n",
      "Epoch 3/100\n",
      "1/1 - 0s - loss: 0.2973 - mean_absolute_error: 0.4574 - val_loss: 0.3116 - val_mean_absolute_error: 0.4276 - 24ms/epoch - 24ms/step\n",
      "Epoch 4/100\n",
      "1/1 - 0s - loss: 0.2336 - mean_absolute_error: 0.3810 - val_loss: 0.2471 - val_mean_absolute_error: 0.3898 - 37ms/epoch - 37ms/step\n",
      "Epoch 5/100\n",
      "1/1 - 0s - loss: 0.1827 - mean_absolute_error: 0.3303 - val_loss: 0.2473 - val_mean_absolute_error: 0.4106 - 36ms/epoch - 36ms/step\n",
      "Epoch 6/100\n",
      "1/1 - 0s - loss: 0.1972 - mean_absolute_error: 0.3567 - val_loss: 0.2118 - val_mean_absolute_error: 0.3822 - 41ms/epoch - 41ms/step\n",
      "Epoch 7/100\n",
      "1/1 - 0s - loss: 0.1743 - mean_absolute_error: 0.3372 - val_loss: 0.1644 - val_mean_absolute_error: 0.3331 - 31ms/epoch - 31ms/step\n",
      "Epoch 8/100\n",
      "1/1 - 0s - loss: 0.1400 - mean_absolute_error: 0.2962 - val_loss: 0.1574 - val_mean_absolute_error: 0.3351 - 31ms/epoch - 31ms/step\n",
      "Epoch 9/100\n",
      "1/1 - 0s - loss: 0.1318 - mean_absolute_error: 0.2883 - val_loss: 0.1687 - val_mean_absolute_error: 0.3354 - 31ms/epoch - 31ms/step\n",
      "Epoch 10/100\n",
      "1/1 - 0s - loss: 0.1333 - mean_absolute_error: 0.2879 - val_loss: 0.1490 - val_mean_absolute_error: 0.3138 - 33ms/epoch - 33ms/step\n",
      "Epoch 11/100\n",
      "1/1 - 0s - loss: 0.1144 - mean_absolute_error: 0.2701 - val_loss: 0.1140 - val_mean_absolute_error: 0.2725 - 39ms/epoch - 39ms/step\n",
      "Epoch 12/100\n",
      "1/1 - 0s - loss: 0.0939 - mean_absolute_error: 0.2429 - val_loss: 0.0966 - val_mean_absolute_error: 0.2574 - 34ms/epoch - 34ms/step\n",
      "Epoch 13/100\n",
      "1/1 - 0s - loss: 0.0826 - mean_absolute_error: 0.2277 - val_loss: 0.0998 - val_mean_absolute_error: 0.2634 - 37ms/epoch - 37ms/step\n",
      "Epoch 14/100\n",
      "1/1 - 0s - loss: 0.0835 - mean_absolute_error: 0.2233 - val_loss: 0.0940 - val_mean_absolute_error: 0.2506 - 35ms/epoch - 35ms/step\n",
      "Epoch 15/100\n",
      "1/1 - 0s - loss: 0.0803 - mean_absolute_error: 0.2158 - val_loss: 0.0808 - val_mean_absolute_error: 0.2255 - 35ms/epoch - 35ms/step\n",
      "Epoch 16/100\n",
      "1/1 - 0s - loss: 0.0684 - mean_absolute_error: 0.1986 - val_loss: 0.0858 - val_mean_absolute_error: 0.2215 - 33ms/epoch - 33ms/step\n",
      "Epoch 17/100\n",
      "1/1 - 0s - loss: 0.0637 - mean_absolute_error: 0.1895 - val_loss: 0.0910 - val_mean_absolute_error: 0.2353 - 68ms/epoch - 68ms/step\n",
      "Epoch 18/100\n",
      "1/1 - 0s - loss: 0.0604 - mean_absolute_error: 0.1775 - val_loss: 0.0944 - val_mean_absolute_error: 0.2460 - 67ms/epoch - 67ms/step\n",
      "Epoch 19/100\n",
      "1/1 - 0s - loss: 0.0591 - mean_absolute_error: 0.1836 - val_loss: 0.0946 - val_mean_absolute_error: 0.2470 - 111ms/epoch - 111ms/step\n",
      "Epoch 20/100\n",
      "1/1 - 0s - loss: 0.0588 - mean_absolute_error: 0.1847 - val_loss: 0.0847 - val_mean_absolute_error: 0.2397 - 42ms/epoch - 42ms/step\n",
      "Epoch 21/100\n",
      "1/1 - 0s - loss: 0.0536 - mean_absolute_error: 0.1729 - val_loss: 0.0793 - val_mean_absolute_error: 0.2275 - 37ms/epoch - 37ms/step\n",
      "Epoch 22/100\n",
      "1/1 - 0s - loss: 0.0522 - mean_absolute_error: 0.1724 - val_loss: 0.0710 - val_mean_absolute_error: 0.2115 - 33ms/epoch - 33ms/step\n",
      "Epoch 23/100\n",
      "1/1 - 0s - loss: 0.0491 - mean_absolute_error: 0.1679 - val_loss: 0.0644 - val_mean_absolute_error: 0.1948 - 30ms/epoch - 30ms/step\n",
      "Epoch 24/100\n",
      "1/1 - 0s - loss: 0.0499 - mean_absolute_error: 0.1754 - val_loss: 0.0603 - val_mean_absolute_error: 0.1883 - 29ms/epoch - 29ms/step\n",
      "Epoch 25/100\n",
      "1/1 - 0s - loss: 0.0489 - mean_absolute_error: 0.1741 - val_loss: 0.0600 - val_mean_absolute_error: 0.1857 - 28ms/epoch - 28ms/step\n",
      "Epoch 26/100\n",
      "1/1 - 0s - loss: 0.0492 - mean_absolute_error: 0.1737 - val_loss: 0.0628 - val_mean_absolute_error: 0.1888 - 27ms/epoch - 27ms/step\n",
      "Epoch 27/100\n",
      "1/1 - 0s - loss: 0.0461 - mean_absolute_error: 0.1665 - val_loss: 0.0665 - val_mean_absolute_error: 0.1937 - 32ms/epoch - 32ms/step\n",
      "Epoch 28/100\n",
      "1/1 - 0s - loss: 0.0455 - mean_absolute_error: 0.1654 - val_loss: 0.0677 - val_mean_absolute_error: 0.1945 - 27ms/epoch - 27ms/step\n",
      "Epoch 29/100\n",
      "1/1 - 0s - loss: 0.0432 - mean_absolute_error: 0.1600 - val_loss: 0.0695 - val_mean_absolute_error: 0.2014 - 31ms/epoch - 31ms/step\n",
      "Epoch 30/100\n",
      "1/1 - 0s - loss: 0.0438 - mean_absolute_error: 0.1611 - val_loss: 0.0697 - val_mean_absolute_error: 0.2012 - 33ms/epoch - 33ms/step\n",
      "Epoch 31/100\n",
      "1/1 - 0s - loss: 0.0433 - mean_absolute_error: 0.1574 - val_loss: 0.0696 - val_mean_absolute_error: 0.1937 - 30ms/epoch - 30ms/step\n",
      "Epoch 32/100\n",
      "1/1 - 0s - loss: 0.0421 - mean_absolute_error: 0.1535 - val_loss: 0.0693 - val_mean_absolute_error: 0.1880 - 27ms/epoch - 27ms/step\n",
      "Epoch 33/100\n",
      "1/1 - 0s - loss: 0.0395 - mean_absolute_error: 0.1470 - val_loss: 0.0700 - val_mean_absolute_error: 0.1937 - 29ms/epoch - 29ms/step\n",
      "Epoch 34/100\n",
      "1/1 - 0s - loss: 0.0399 - mean_absolute_error: 0.1498 - val_loss: 0.0674 - val_mean_absolute_error: 0.1843 - 25ms/epoch - 25ms/step\n",
      "Epoch 35/100\n",
      "1/1 - 0s - loss: 0.0392 - mean_absolute_error: 0.1481 - val_loss: 0.0674 - val_mean_absolute_error: 0.1841 - 27ms/epoch - 27ms/step\n",
      "Epoch 36/100\n",
      "1/1 - 0s - loss: 0.0396 - mean_absolute_error: 0.1483 - val_loss: 0.0683 - val_mean_absolute_error: 0.1835 - 32ms/epoch - 32ms/step\n",
      "Epoch 37/100\n",
      "1/1 - 0s - loss: 0.0386 - mean_absolute_error: 0.1453 - val_loss: 0.0711 - val_mean_absolute_error: 0.1927 - 28ms/epoch - 28ms/step\n",
      "Epoch 38/100\n",
      "1/1 - 0s - loss: 0.0382 - mean_absolute_error: 0.1420 - val_loss: 0.0700 - val_mean_absolute_error: 0.1875 - 33ms/epoch - 33ms/step\n",
      "Epoch 39/100\n",
      "1/1 - 0s - loss: 0.0374 - mean_absolute_error: 0.1393 - val_loss: 0.0688 - val_mean_absolute_error: 0.1853 - 32ms/epoch - 32ms/step\n",
      "Epoch 40/100\n",
      "1/1 - 0s - loss: 0.0366 - mean_absolute_error: 0.1372 - val_loss: 0.0682 - val_mean_absolute_error: 0.1831 - 30ms/epoch - 30ms/step\n",
      "Epoch 41/100\n",
      "1/1 - 0s - loss: 0.0365 - mean_absolute_error: 0.1366 - val_loss: 0.0665 - val_mean_absolute_error: 0.1824 - 31ms/epoch - 31ms/step\n",
      "Epoch 42/100\n",
      "1/1 - 0s - loss: 0.0350 - mean_absolute_error: 0.1339 - val_loss: 0.0655 - val_mean_absolute_error: 0.1840 - 28ms/epoch - 28ms/step\n",
      "Epoch 43/100\n",
      "1/1 - 0s - loss: 0.0345 - mean_absolute_error: 0.1350 - val_loss: 0.0639 - val_mean_absolute_error: 0.1770 - 27ms/epoch - 27ms/step\n",
      "Epoch 44/100\n",
      "1/1 - 0s - loss: 0.0337 - mean_absolute_error: 0.1325 - val_loss: 0.0617 - val_mean_absolute_error: 0.1723 - 33ms/epoch - 33ms/step\n",
      "Epoch 45/100\n",
      "1/1 - 0s - loss: 0.0332 - mean_absolute_error: 0.1313 - val_loss: 0.0607 - val_mean_absolute_error: 0.1715 - 30ms/epoch - 30ms/step\n",
      "Epoch 46/100\n",
      "1/1 - 0s - loss: 0.0328 - mean_absolute_error: 0.1321 - val_loss: 0.0608 - val_mean_absolute_error: 0.1688 - 27ms/epoch - 27ms/step\n",
      "Epoch 47/100\n",
      "1/1 - 0s - loss: 0.0324 - mean_absolute_error: 0.1296 - val_loss: 0.0621 - val_mean_absolute_error: 0.1735 - 32ms/epoch - 32ms/step\n",
      "Epoch 48/100\n",
      "1/1 - 0s - loss: 0.0323 - mean_absolute_error: 0.1284 - val_loss: 0.0620 - val_mean_absolute_error: 0.1766 - 34ms/epoch - 34ms/step\n",
      "Epoch 49/100\n",
      "1/1 - 0s - loss: 0.0318 - mean_absolute_error: 0.1274 - val_loss: 0.0613 - val_mean_absolute_error: 0.1754 - 26ms/epoch - 26ms/step\n",
      "Epoch 50/100\n",
      "1/1 - 0s - loss: 0.0314 - mean_absolute_error: 0.1248 - val_loss: 0.0612 - val_mean_absolute_error: 0.1772 - 29ms/epoch - 29ms/step\n",
      "Epoch 51/100\n",
      "1/1 - 0s - loss: 0.0312 - mean_absolute_error: 0.1245 - val_loss: 0.0602 - val_mean_absolute_error: 0.1738 - 27ms/epoch - 27ms/step\n",
      "Epoch 52/100\n",
      "1/1 - 0s - loss: 0.0308 - mean_absolute_error: 0.1233 - val_loss: 0.0595 - val_mean_absolute_error: 0.1745 - 28ms/epoch - 28ms/step\n",
      "Epoch 53/100\n",
      "1/1 - 0s - loss: 0.0307 - mean_absolute_error: 0.1247 - val_loss: 0.0584 - val_mean_absolute_error: 0.1710 - 29ms/epoch - 29ms/step\n",
      "Epoch 54/100\n",
      "1/1 - 0s - loss: 0.0303 - mean_absolute_error: 0.1223 - val_loss: 0.0571 - val_mean_absolute_error: 0.1662 - 29ms/epoch - 29ms/step\n",
      "Epoch 55/100\n",
      "1/1 - 0s - loss: 0.0300 - mean_absolute_error: 0.1203 - val_loss: 0.0567 - val_mean_absolute_error: 0.1632 - 30ms/epoch - 30ms/step\n",
      "Epoch 56/100\n",
      "1/1 - 0s - loss: 0.0299 - mean_absolute_error: 0.1199 - val_loss: 0.0576 - val_mean_absolute_error: 0.1674 - 105ms/epoch - 105ms/step\n",
      "Epoch 57/100\n",
      "1/1 - 0s - loss: 0.0298 - mean_absolute_error: 0.1188 - val_loss: 0.0577 - val_mean_absolute_error: 0.1696 - 39ms/epoch - 39ms/step\n",
      "Epoch 58/100\n",
      "1/1 - 0s - loss: 0.0296 - mean_absolute_error: 0.1177 - val_loss: 0.0571 - val_mean_absolute_error: 0.1686 - 25ms/epoch - 25ms/step\n",
      "Epoch 59/100\n",
      "1/1 - 0s - loss: 0.0294 - mean_absolute_error: 0.1169 - val_loss: 0.0570 - val_mean_absolute_error: 0.1685 - 28ms/epoch - 28ms/step\n",
      "Epoch 60/100\n",
      "1/1 - 0s - loss: 0.0294 - mean_absolute_error: 0.1163 - val_loss: 0.0566 - val_mean_absolute_error: 0.1669 - 30ms/epoch - 30ms/step\n",
      "Epoch 61/100\n",
      "1/1 - 0s - loss: 0.0292 - mean_absolute_error: 0.1157 - val_loss: 0.0564 - val_mean_absolute_error: 0.1658 - 30ms/epoch - 30ms/step\n",
      "Epoch 62/100\n",
      "1/1 - 0s - loss: 0.0291 - mean_absolute_error: 0.1153 - val_loss: 0.0560 - val_mean_absolute_error: 0.1641 - 28ms/epoch - 28ms/step\n",
      "Epoch 63/100\n",
      "1/1 - 0s - loss: 0.0290 - mean_absolute_error: 0.1141 - val_loss: 0.0552 - val_mean_absolute_error: 0.1630 - 26ms/epoch - 26ms/step\n",
      "Epoch 64/100\n",
      "1/1 - 0s - loss: 0.0288 - mean_absolute_error: 0.1144 - val_loss: 0.0551 - val_mean_absolute_error: 0.1621 - 28ms/epoch - 28ms/step\n",
      "Epoch 65/100\n",
      "1/1 - 0s - loss: 0.0287 - mean_absolute_error: 0.1141 - val_loss: 0.0544 - val_mean_absolute_error: 0.1608 - 31ms/epoch - 31ms/step\n",
      "Epoch 66/100\n",
      "1/1 - 0s - loss: 0.0286 - mean_absolute_error: 0.1142 - val_loss: 0.0536 - val_mean_absolute_error: 0.1590 - 27ms/epoch - 27ms/step\n",
      "Epoch 67/100\n",
      "1/1 - 0s - loss: 0.0285 - mean_absolute_error: 0.1139 - val_loss: 0.0532 - val_mean_absolute_error: 0.1578 - 26ms/epoch - 26ms/step\n",
      "Epoch 68/100\n",
      "1/1 - 0s - loss: 0.0284 - mean_absolute_error: 0.1139 - val_loss: 0.0522 - val_mean_absolute_error: 0.1567 - 32ms/epoch - 32ms/step\n",
      "Epoch 69/100\n",
      "1/1 - 0s - loss: 0.0283 - mean_absolute_error: 0.1140 - val_loss: 0.0518 - val_mean_absolute_error: 0.1556 - 31ms/epoch - 31ms/step\n",
      "Epoch 70/100\n",
      "1/1 - 0s - loss: 0.0282 - mean_absolute_error: 0.1129 - val_loss: 0.0510 - val_mean_absolute_error: 0.1539 - 27ms/epoch - 27ms/step\n",
      "Epoch 71/100\n",
      "1/1 - 0s - loss: 0.0281 - mean_absolute_error: 0.1123 - val_loss: 0.0506 - val_mean_absolute_error: 0.1535 - 27ms/epoch - 27ms/step\n",
      "Epoch 72/100\n",
      "1/1 - 0s - loss: 0.0281 - mean_absolute_error: 0.1123 - val_loss: 0.0502 - val_mean_absolute_error: 0.1526 - 23ms/epoch - 23ms/step\n",
      "Epoch 73/100\n",
      "1/1 - 0s - loss: 0.0280 - mean_absolute_error: 0.1122 - val_loss: 0.0492 - val_mean_absolute_error: 0.1500 - 25ms/epoch - 25ms/step\n",
      "Epoch 74/100\n",
      "1/1 - 0s - loss: 0.0279 - mean_absolute_error: 0.1118 - val_loss: 0.0491 - val_mean_absolute_error: 0.1504 - 24ms/epoch - 24ms/step\n",
      "Epoch 75/100\n",
      "1/1 - 0s - loss: 0.0279 - mean_absolute_error: 0.1119 - val_loss: 0.0482 - val_mean_absolute_error: 0.1484 - 29ms/epoch - 29ms/step\n",
      "Epoch 76/100\n",
      "1/1 - 0s - loss: 0.0278 - mean_absolute_error: 0.1120 - val_loss: 0.0479 - val_mean_absolute_error: 0.1480 - 29ms/epoch - 29ms/step\n",
      "Epoch 77/100\n",
      "1/1 - 0s - loss: 0.0277 - mean_absolute_error: 0.1118 - val_loss: 0.0478 - val_mean_absolute_error: 0.1481 - 28ms/epoch - 28ms/step\n",
      "Epoch 78/100\n",
      "1/1 - 0s - loss: 0.0277 - mean_absolute_error: 0.1114 - val_loss: 0.0476 - val_mean_absolute_error: 0.1467 - 26ms/epoch - 26ms/step\n",
      "Epoch 79/100\n",
      "1/1 - 0s - loss: 0.0277 - mean_absolute_error: 0.1109 - val_loss: 0.0478 - val_mean_absolute_error: 0.1474 - 27ms/epoch - 27ms/step\n",
      "Epoch 80/100\n",
      "1/1 - 0s - loss: 0.0276 - mean_absolute_error: 0.1107 - val_loss: 0.0472 - val_mean_absolute_error: 0.1469 - 27ms/epoch - 27ms/step\n",
      "Epoch 81/100\n",
      "1/1 - 0s - loss: 0.0276 - mean_absolute_error: 0.1104 - val_loss: 0.0474 - val_mean_absolute_error: 0.1473 - 27ms/epoch - 27ms/step\n",
      "Epoch 82/100\n",
      "1/1 - 0s - loss: 0.0275 - mean_absolute_error: 0.1103 - val_loss: 0.0471 - val_mean_absolute_error: 0.1461 - 31ms/epoch - 31ms/step\n",
      "Epoch 83/100\n",
      "1/1 - 0s - loss: 0.0275 - mean_absolute_error: 0.1101 - val_loss: 0.0471 - val_mean_absolute_error: 0.1458 - 28ms/epoch - 28ms/step\n",
      "Epoch 84/100\n",
      "1/1 - 0s - loss: 0.0274 - mean_absolute_error: 0.1099 - val_loss: 0.0471 - val_mean_absolute_error: 0.1454 - 31ms/epoch - 31ms/step\n",
      "Epoch 85/100\n",
      "1/1 - 0s - loss: 0.0274 - mean_absolute_error: 0.1096 - val_loss: 0.0470 - val_mean_absolute_error: 0.1446 - 28ms/epoch - 28ms/step\n",
      "Epoch 86/100\n",
      "1/1 - 0s - loss: 0.0273 - mean_absolute_error: 0.1090 - val_loss: 0.0470 - val_mean_absolute_error: 0.1444 - 29ms/epoch - 29ms/step\n",
      "Epoch 87/100\n",
      "1/1 - 0s - loss: 0.0273 - mean_absolute_error: 0.1087 - val_loss: 0.0468 - val_mean_absolute_error: 0.1446 - 33ms/epoch - 33ms/step\n",
      "Epoch 88/100\n",
      "1/1 - 0s - loss: 0.0273 - mean_absolute_error: 0.1082 - val_loss: 0.0468 - val_mean_absolute_error: 0.1448 - 32ms/epoch - 32ms/step\n",
      "Epoch 89/100\n",
      "1/1 - 0s - loss: 0.0272 - mean_absolute_error: 0.1078 - val_loss: 0.0465 - val_mean_absolute_error: 0.1444 - 30ms/epoch - 30ms/step\n",
      "Epoch 90/100\n",
      "1/1 - 0s - loss: 0.0272 - mean_absolute_error: 0.1080 - val_loss: 0.0464 - val_mean_absolute_error: 0.1435 - 29ms/epoch - 29ms/step\n",
      "Epoch 91/100\n",
      "1/1 - 0s - loss: 0.0272 - mean_absolute_error: 0.1075 - val_loss: 0.0460 - val_mean_absolute_error: 0.1426 - 31ms/epoch - 31ms/step\n",
      "Epoch 92/100\n",
      "1/1 - 0s - loss: 0.0272 - mean_absolute_error: 0.1079 - val_loss: 0.0461 - val_mean_absolute_error: 0.1424 - 31ms/epoch - 31ms/step\n",
      "Epoch 93/100\n",
      "1/1 - 0s - loss: 0.0271 - mean_absolute_error: 0.1078 - val_loss: 0.0457 - val_mean_absolute_error: 0.1422 - 29ms/epoch - 29ms/step\n",
      "Epoch 94/100\n",
      "1/1 - 0s - loss: 0.0271 - mean_absolute_error: 0.1082 - val_loss: 0.0462 - val_mean_absolute_error: 0.1430 - 30ms/epoch - 30ms/step\n",
      "Epoch 95/100\n",
      "1/1 - 0s - loss: 0.0272 - mean_absolute_error: 0.1085 - val_loss: 0.0456 - val_mean_absolute_error: 0.1447 - 85ms/epoch - 85ms/step\n",
      "Epoch 96/100\n",
      "1/1 - 0s - loss: 0.0272 - mean_absolute_error: 0.1091 - val_loss: 0.0468 - val_mean_absolute_error: 0.1454 - 38ms/epoch - 38ms/step\n",
      "Epoch 97/100\n",
      "1/1 - 0s - loss: 0.0274 - mean_absolute_error: 0.1111 - val_loss: 0.0458 - val_mean_absolute_error: 0.1501 - 27ms/epoch - 27ms/step\n",
      "Epoch 98/100\n",
      "1/1 - 0s - loss: 0.0279 - mean_absolute_error: 0.1139 - val_loss: 0.0493 - val_mean_absolute_error: 0.1559 - 27ms/epoch - 27ms/step\n",
      "Epoch 99/100\n",
      "1/1 - 0s - loss: 0.0289 - mean_absolute_error: 0.1206 - val_loss: 0.0484 - val_mean_absolute_error: 0.1627 - 25ms/epoch - 25ms/step\n",
      "Epoch 100/100\n",
      "1/1 - 0s - loss: 0.0309 - mean_absolute_error: 0.1274 - val_loss: 0.0564 - val_mean_absolute_error: 0.1768 - 31ms/epoch - 31ms/step\n"
     ]
    }
   ],
   "source": [
    "training_result = neural_network_model.fit(x=train_input, y=train_output, validation_split=0.2, batch_size=50, epochs=100, shuffle=True, verbose=2)"
   ]
  },
  {
   "cell_type": "code",
   "execution_count": 25,
   "metadata": {},
   "outputs": [
    {
     "data": {
      "text/plain": [
       "<matplotlib.legend.Legend at 0x1b3ba089f10>"
      ]
     },
     "execution_count": 25,
     "metadata": {},
     "output_type": "execute_result"
    },
    {
     "data": {
      "image/png": "[encoded data removed]",
      "text/plain": [
       "<Figure size 640x480 with 1 Axes>"
      ]
     },
     "metadata": {},
     "output_type": "display_data"
    }
   ],
   "source": [
    "plt.plot(training_result.history['loss'], label='Training Loss')\n",
    "plt.plot(training_result.history['val_loss'], label='Validation Loss')\n",
    "plt.legend()"
   ]
  }
 ],
 "metadata": {
  "kernelspec": {
   "display_name": "Python 3",
   "language": "python",
   "name": "python3"
  },
  "language_info": {
   "codemirror_mode": {
    "name": "ipython",
    "version": 3
   },
   "file_extension": ".py",
   "mimetype": "text/x-python",
   "name": "python",
   "nbconvert_exporter": "python",
   "pygments_lexer": "ipython3",
   "version": "3.11.0"
  }
 },
 "nbformat": 4,
 "nbformat_minor": 2
}
